{
 "cells": [
  {
   "cell_type": "code",
   "execution_count": 1,
   "id": "9b8dcd50",
   "metadata": {},
   "outputs": [],
   "source": [
    "import pandas as pd\n",
    "import numpy as np\n",
    "import seaborn as sns\n",
    "pd.options.display.max_rows = 200\n",
    "pd.options.display.max_columns = 200"
   ]
  },
  {
   "cell_type": "code",
   "execution_count": 2,
   "id": "fa48b7d2",
   "metadata": {},
   "outputs": [
    {
     "data": {
      "text/plain": [
       "Index(['schd_dep_date', 'flight_number', 'reg', 'fleet_family', 'sub_fleet',\n",
       "       'sched_dep_iata', 'dep_country', 'dep_region', 'sched_arr_iata',\n",
       "       'arr_region', 'std_z', 'std_z_date', 'std_z_date_time',\n",
       "       'sta_z_date_time', 'etd_z_date_time', 'eta_z_date_time', 'atd_z',\n",
       "       'atd_z_date', 'atd_z_date_time', 'ata_z_date_time', 'sched_block',\n",
       "       'actual_block', 'block_difference', 'std_z_weekend', 'std_z_monthyear',\n",
       "       'std_z_year', 'sta_z_weekend', 'distance', 'flight_type',\n",
       "       'flight_category', 'prim_dly', 'prim_c', 'prim_c_desc', 'dly1', 'c1_1',\n",
       "       'c1_desc', 'dly2', 'c2_1', 'c2_desc', 'dly3', 'c3_1', 'c3_desc', 'dly4',\n",
       "       'c4_1', 'c4_desc', 'dly5', 'c5_1', 'c5_desc', 'dly6', 'c6_1', 'c6_desc',\n",
       "       'dly7', 'c7_1', 'c7_desc', 'dly8', 'c8_1', 'c8_desc', 'remarks',\n",
       "       'ttl_dep_dly', 'ttl_arr_dly', 'f_pax_rev', 'f_seats', 'j_pax_rev',\n",
       "       'j_seats', 'y_pax_rev', 'y_seats', 'ttl_pax_pad', 'ttl_fd_crew',\n",
       "       'ttl_cc_crew', 'ttl_ops_crew', 'ttl_pax_rev', 'ttl_seats',\n",
       "       'ttl_infants', 'ib_connex_pax_total', 'ob_connex_pax_total',\n",
       "       'lcl_joining_pax_ttl', 'lcl_term_pax_ttl', 'arr_fuel', 'dep_fuel',\n",
       "       'cargo', 'mails', 'payload', 'bags_kgs', 'fuel_remaining',\n",
       "       'arrival_fuel'],\n",
       "      dtype='object')"
      ]
     },
     "execution_count": 2,
     "metadata": {},
     "output_type": "execute_result"
    }
   ],
   "source": [
    "df = pd.read_excel('../input/airline/Case data.xlsx')\n",
    "\n",
    "df.columns"
   ]
  },
  {
   "cell_type": "code",
   "execution_count": 3,
   "id": "dddced62",
   "metadata": {},
   "outputs": [],
   "source": [
    "## Drop useless columns\n",
    "df.drop(columns=['ttl_infants', 'std_z_year'], inplace=True)"
   ]
  },
  {
   "cell_type": "code",
   "execution_count": 4,
   "id": "9b525929",
   "metadata": {},
   "outputs": [],
   "source": [
    "## Target\n",
    "df['ttl_dep_dly'] = (df['atd_z_date_time'] - df['std_z_date_time']).apply(lambda x: x.total_seconds()/60)\n",
    "df['ttl_arr_dly'] = (df['ata_z_date_time'] - df['sta_z_date_time']).apply(lambda x: x.total_seconds()/60)\n",
    "df['otp'] = np.where(df['ttl_dep_dly'] > 15, 0, 1)\n",
    "target = 'otp'"
   ]
  },
  {
   "cell_type": "code",
   "execution_count": 5,
   "id": "5031e378",
   "metadata": {},
   "outputs": [],
   "source": [
    "## organize features\n",
    "dly = [x for x in df.columns if x.startswith(('dly', 'prim')) or x.endswith(('_1', '_desc'))]\n",
    "num = [x for x in df.columns if df.dtypes[x] in ['float', 'int64', 'int32'] and x not in dly]\n",
    "tim = [x for x in df.columns if x.endswith('date_time')]\n",
    "cat = [x for x in df.columns if df.dtypes[x] == 'object' and x not in dly]\n",
    "num.remove(target)"
   ]
  },
  {
   "cell_type": "code",
   "execution_count": 6,
   "id": "4efc0014",
   "metadata": {},
   "outputs": [],
   "source": [
    "from sklearn.model_selection import train_test_split\n",
    "train, test = train_test_split(df, test_size=.2, random_state=0)"
   ]
  },
  {
   "cell_type": "markdown",
   "id": "1fee224e",
   "metadata": {},
   "source": [
    "# Explore"
   ]
  },
  {
   "cell_type": "code",
   "execution_count": 11,
   "id": "0ce21021",
   "metadata": {},
   "outputs": [],
   "source": [
    "corr = train.corr(numeric_only=True)"
   ]
  },
  {
   "cell_type": "code",
   "execution_count": 12,
   "id": "3abea9ae",
   "metadata": {},
   "outputs": [
    {
     "data": {
      "text/plain": [
       "ttl_dep_dly            1.000000\n",
       "ttl_arr_dly            0.895618\n",
       "fuel_remaining         0.212099\n",
       "y_pax_rev              0.173921\n",
       "ttl_pax_rev            0.172315\n",
       "lcl_joining_pax_ttl    0.165780\n",
       "bags_kgs               0.147931\n",
       "lcl_term_pax_ttl       0.145172\n",
       "payload                0.118327\n",
       "j_pax_rev              0.097317\n",
       "ob_connex_pax_total    0.086413\n",
       "ttl_ops_crew           0.082530\n",
       "ttl_cc_crew            0.080551\n",
       "j_seats                0.075312\n",
       "ttl_seats              0.061603\n",
       "y_seats                0.060285\n",
       "arr_fuel               0.048382\n",
       "block_difference       0.045848\n",
       "ib_connex_pax_total    0.044244\n",
       "ttl_fd_crew            0.033256\n",
       "ttl_pax_pad            0.028306\n",
       "distance               0.011879\n",
       "dep_fuel               0.003067\n",
       "mails                 -0.011997\n",
       "cargo                 -0.016020\n",
       "arrival_fuel          -0.018494\n",
       "f_pax_rev             -0.019869\n",
       "f_seats               -0.047778\n",
       "otp                   -0.651926\n",
       "dly5                        NaN\n",
       "c5_1                        NaN\n",
       "c5_desc                     NaN\n",
       "dly6                        NaN\n",
       "c6_1                        NaN\n",
       "c6_desc                     NaN\n",
       "dly7                        NaN\n",
       "c7_1                        NaN\n",
       "c7_desc                     NaN\n",
       "dly8                        NaN\n",
       "c8_1                        NaN\n",
       "c8_desc                     NaN\n",
       "Name: ttl_dep_dly, dtype: float64"
      ]
     },
     "execution_count": 12,
     "metadata": {},
     "output_type": "execute_result"
    }
   ],
   "source": [
    "corr['ttl_dep_dly'].sort_values(ascending=False)"
   ]
  },
  {
   "cell_type": "markdown",
   "id": "3958fc05",
   "metadata": {},
   "source": [
    "# Notes"
   ]
  },
  {
   "cell_type": "code",
   "execution_count": null,
   "id": "aa3743dd",
   "metadata": {},
   "outputs": [],
   "source": []
  }
 ],
 "metadata": {
  "kernelspec": {
   "display_name": "Python 3 (ipykernel)",
   "language": "python",
   "name": "python3"
  },
  "language_info": {
   "codemirror_mode": {
    "name": "ipython",
    "version": 3
   },
   "file_extension": ".py",
   "mimetype": "text/x-python",
   "name": "python",
   "nbconvert_exporter": "python",
   "pygments_lexer": "ipython3",
   "version": "3.10.11"
  }
 },
 "nbformat": 4,
 "nbformat_minor": 5
}
