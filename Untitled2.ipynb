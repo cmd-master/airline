{
 "cells": [
  {
   "cell_type": "code",
   "execution_count": 1,
   "id": "96c9b44a",
   "metadata": {},
   "outputs": [],
   "source": [
    "import pandas as pd\n",
    "import numpy as np"
   ]
  },
  {
   "cell_type": "code",
   "execution_count": 3,
   "id": "060725bb",
   "metadata": {},
   "outputs": [],
   "source": [
    "df = pd.read_excel('/kaggle/input/airline/challenge.xlsx')"
   ]
  },
  {
   "cell_type": "code",
   "execution_count": 6,
   "id": "5098d4b0",
   "metadata": {},
   "outputs": [
    {
     "data": {
      "text/plain": [
       "Index(['schd_dep_date', 'flight_number', 'reg', 'fleet_family', 'sub_fleet',\n",
       "       'sched_dep_iata', 'dep_country', 'dep_region', 'sched_arr_iata',\n",
       "       'arr_region', 'std_z', 'std_z_date', 'std_z_date_time',\n",
       "       'sta_z_date_time', 'etd_z_date_time', 'eta_z_date_time', 'atd_z',\n",
       "       'atd_z_date', 'atd_z_date_time', 'ata_z_date_time', 'sched_block',\n",
       "       'actual_block', 'block_difference', 'std_z_weekend', 'std_z_monthyear',\n",
       "       'std_z_year', 'sta_z_weekend', 'distance', 'flight_type',\n",
       "       'flight_category', 'prim_dly', 'prim_c', 'prim_c_desc', 'dly1', 'c1_1',\n",
       "       'c1_desc', 'dly2', 'c2_1', 'c2_desc', 'dly3', 'c3_1', 'c3_desc', 'dly4',\n",
       "       'c4_1', 'c4_desc', 'dly5', 'c5_1', 'c5_desc', 'dly6', 'c6_1', 'c6_desc',\n",
       "       'dly7', 'c7_1', 'c7_desc', 'dly8', 'c8_1', 'c8_desc', 'remarks',\n",
       "       'ttl_dep_dly', 'ttl_arr_dly', 'f_pax_rev', 'f_seats', 'j_pax_rev',\n",
       "       'j_seats', 'y_pax_rev', 'y_seats', 'ttl_pax_pad', 'ttl_fd_crew',\n",
       "       'ttl_cc_crew', 'ttl_ops_crew', 'ttl_pax_rev', 'ttl_seats',\n",
       "       'ttl_infants', 'ib_connex_pax_total', 'ob_connex_pax_total',\n",
       "       'lcl_joining_pax_ttl', 'lcl_term_pax_ttl', 'arr_fuel', 'dep_fuel',\n",
       "       'cargo', 'mails', 'payload', 'bags_kgs', 'fuel_remaining',\n",
       "       'arrival_fuel'],\n",
       "      dtype='object')"
      ]
     },
     "execution_count": 6,
     "metadata": {},
     "output_type": "execute_result"
    }
   ],
   "source": [
    "df.columns"
   ]
  },
  {
   "cell_type": "code",
   "execution_count": 11,
   "id": "545dc685",
   "metadata": {},
   "outputs": [
    {
     "data": {
      "text/plain": [
       "object            33\n",
       "int64             24\n",
       "float64           16\n",
       "datetime64[ns]    12\n",
       "dtype: int64"
      ]
     },
     "execution_count": 11,
     "metadata": {},
     "output_type": "execute_result"
    }
   ],
   "source": [
    "df.dtypes.value_counts()"
   ]
  },
  {
   "cell_type": "code",
   "execution_count": 19,
   "id": "7d840e41",
   "metadata": {},
   "outputs": [],
   "source": [
    "num = [x for x in df.columns if df.dtypes[x] in ('int64', 'float')]\n",
    "cat = [x for x in df.columns if df.dtypes[x] == 'object']\n",
    "dat = [x for x in df.columns if df.dtypes[x] == 'datetime64[ns]'] "
   ]
  },
  {
   "cell_type": "code",
   "execution_count": 21,
   "id": "614c770d",
   "metadata": {},
   "outputs": [
    {
     "data": {
      "text/plain": [
       "Index(['schd_dep_date', 'flight_number', 'reg', 'fleet_family', 'sub_fleet',\n",
       "       'sched_dep_iata', 'dep_country', 'dep_region', 'sched_arr_iata',\n",
       "       'arr_region', 'std_z', 'std_z_date', 'std_z_date_time',\n",
       "       'sta_z_date_time', 'etd_z_date_time', 'eta_z_date_time', 'atd_z',\n",
       "       'atd_z_date', 'atd_z_date_time', 'ata_z_date_time', 'sched_block',\n",
       "       'actual_block', 'block_difference', 'std_z_weekend', 'std_z_monthyear',\n",
       "       'std_z_year', 'sta_z_weekend', 'distance', 'flight_type',\n",
       "       'flight_category', 'prim_dly', 'prim_c', 'prim_c_desc', 'dly1', 'c1_1',\n",
       "       'c1_desc', 'dly2', 'c2_1', 'c2_desc', 'dly3', 'c3_1', 'c3_desc', 'dly4',\n",
       "       'c4_1', 'c4_desc', 'dly5', 'c5_1', 'c5_desc', 'dly6', 'c6_1', 'c6_desc',\n",
       "       'dly7', 'c7_1', 'c7_desc', 'dly8', 'c8_1', 'c8_desc', 'remarks',\n",
       "       'ttl_dep_dly', 'ttl_arr_dly', 'f_pax_rev', 'f_seats', 'j_pax_rev',\n",
       "       'j_seats', 'y_pax_rev', 'y_seats', 'ttl_pax_pad', 'ttl_fd_crew',\n",
       "       'ttl_cc_crew', 'ttl_ops_crew', 'ttl_pax_rev', 'ttl_seats',\n",
       "       'ttl_infants', 'ib_connex_pax_total', 'ob_connex_pax_total',\n",
       "       'lcl_joining_pax_ttl', 'lcl_term_pax_ttl', 'arr_fuel', 'dep_fuel',\n",
       "       'cargo', 'mails', 'payload', 'bags_kgs', 'fuel_remaining',\n",
       "       'arrival_fuel'],\n",
       "      dtype='object')"
      ]
     },
     "execution_count": 21,
     "metadata": {},
     "output_type": "execute_result"
    }
   ],
   "source": [
    "df.columns"
   ]
  },
  {
   "cell_type": "code",
   "execution_count": 23,
   "id": "629382a4",
   "metadata": {},
   "outputs": [
    {
     "data": {
      "text/plain": [
       "0      9105\n",
       "1      1689\n",
       "2         0\n",
       "3       886\n",
       "4      6771\n",
       "       ... \n",
       "995    5157\n",
       "996    4390\n",
       "997       0\n",
       "998    4965\n",
       "999    4006\n",
       "Name: bags_kgs, Length: 1000, dtype: int64"
      ]
     },
     "execution_count": 23,
     "metadata": {},
     "output_type": "execute_result"
    }
   ],
   "source": [
    "df['bags_kgs']"
   ]
  },
  {
   "cell_type": "markdown",
   "id": "0c5cd4d9",
   "metadata": {},
   "source": [
    "###### "
   ]
  }
 ],
 "metadata": {
  "kernelspec": {
   "display_name": "Python 3 (ipykernel)",
   "language": "python",
   "name": "python3"
  },
  "language_info": {
   "codemirror_mode": {
    "name": "ipython",
    "version": 3
   },
   "file_extension": ".py",
   "mimetype": "text/x-python",
   "name": "python",
   "nbconvert_exporter": "python",
   "pygments_lexer": "ipython3",
   "version": "3.11.4"
  }
 },
 "nbformat": 4,
 "nbformat_minor": 5
}
