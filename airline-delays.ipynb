{
 "cells": [
  {
   "cell_type": "markdown",
   "id": "d6b1eca2",
   "metadata": {
    "papermill": {
     "duration": 0.007557,
     "end_time": "2024-06-26T01:54:51.027838",
     "exception": false,
     "start_time": "2024-06-26T01:54:51.020281",
     "status": "completed"
    },
    "tags": []
   },
   "source": [
    "# 📜Summary\n",
    "**Introduction:** Efficient operations in the airline industry hinge on maximizing the number of flights to optimize revenue. However, maintaining a tight schedule poses a significant risk of network delays. A single delayed flight not only impacts its immediate successor but can ripple through subsequent flights, amplifying disruptions across the network. This is why Airlines does it best to improve their On-Time Performance.\n",
    "\n",
    "**Problem:** How can we maximize the number of flights while mitigating the risk of disruption?\n",
    "\n",
    "**Hypothesis:** If we are able to know the chances of a flight being delayed, we  can plan our flight schedules better.\n",
    "\n",
    "**Goal:** Predict the probability of delays for flights.\n",
    "\n",
    "[kaggle](https://www.kaggle.com/code/fiftythirtyfour/usa-airline-on-time-performance/edit)"
   ]
  },
  {
   "cell_type": "markdown",
   "id": "934420e1",
   "metadata": {
    "papermill": {
     "duration": 0.00615,
     "end_time": "2024-06-26T01:54:51.040852",
     "exception": false,
     "start_time": "2024-06-26T01:54:51.034702",
     "status": "completed"
    },
    "tags": []
   },
   "source": [
    "# 🤓Data Science"
   ]
  },
  {
   "cell_type": "code",
   "execution_count": 1,
   "id": "9a81aab1",
   "metadata": {
    "execution": {
     "iopub.execute_input": "2024-06-26T01:54:51.055218Z",
     "iopub.status.busy": "2024-06-26T01:54:51.054808Z",
     "iopub.status.idle": "2024-06-26T01:55:09.501845Z",
     "shell.execute_reply": "2024-06-26T01:55:09.500588Z"
    },
    "papermill": {
     "duration": 18.457556,
     "end_time": "2024-06-26T01:55:09.504777",
     "exception": false,
     "start_time": "2024-06-26T01:54:51.047221",
     "status": "completed"
    },
    "tags": []
   },
   "outputs": [
    {
     "name": "stdout",
     "output_type": "stream",
     "text": [
      "Collecting timezonefinder\r\n",
      "  Downloading timezonefinder-6.5.2-cp310-cp310-manylinux_2_17_x86_64.manylinux_2_5_x86_64.manylinux1_x86_64.manylinux2014_x86_64.whl.metadata (4.1 kB)\r\n",
      "Requirement already satisfied: cffi<2,>=1.15.1 in /opt/conda/lib/python3.10/site-packages (from timezonefinder) (1.16.0)\r\n",
      "Collecting h3<4,>=3.7.6 (from timezonefinder)\r\n",
      "  Downloading h3-3.7.7-cp310-cp310-manylinux_2_17_x86_64.manylinux2014_x86_64.whl.metadata (4.9 kB)\r\n",
      "Requirement already satisfied: numpy<3,>=1.23 in /opt/conda/lib/python3.10/site-packages (from timezonefinder) (1.24.4)\r\n",
      "Requirement already satisfied: setuptools>=65.5 in /opt/conda/lib/python3.10/site-packages (from timezonefinder) (69.0.3)\r\n",
      "Requirement already satisfied: pycparser in /opt/conda/lib/python3.10/site-packages (from cffi<2,>=1.15.1->timezonefinder) (2.21)\r\n",
      "Downloading timezonefinder-6.5.2-cp310-cp310-manylinux_2_17_x86_64.manylinux_2_5_x86_64.manylinux1_x86_64.manylinux2014_x86_64.whl (49.4 MB)\r\n",
      "\u001b[2K   \u001b[90m━━━━━━━━━━━━━━━━━━━━━━━━━━━━━━━━━━━━━━━━\u001b[0m \u001b[32m49.4/49.4 MB\u001b[0m \u001b[31m28.4 MB/s\u001b[0m eta \u001b[36m0:00:00\u001b[0m\r\n",
      "\u001b[?25hDownloading h3-3.7.7-cp310-cp310-manylinux_2_17_x86_64.manylinux2014_x86_64.whl (1.2 MB)\r\n",
      "\u001b[2K   \u001b[90m━━━━━━━━━━━━━━━━━━━━━━━━━━━━━━━━━━━━━━━━\u001b[0m \u001b[32m1.2/1.2 MB\u001b[0m \u001b[31m44.0 MB/s\u001b[0m eta \u001b[36m0:00:00\u001b[0m\r\n",
      "\u001b[?25hInstalling collected packages: h3, timezonefinder\r\n",
      "Successfully installed h3-3.7.7 timezonefinder-6.5.2\r\n"
     ]
    }
   ],
   "source": [
    "# ! pip install airportsdata\n",
    "! pip install timezonefinder"
   ]
  },
  {
   "cell_type": "code",
   "execution_count": 2,
   "id": "474a62e7",
   "metadata": {
    "execution": {
     "iopub.execute_input": "2024-06-26T01:55:09.526077Z",
     "iopub.status.busy": "2024-06-26T01:55:09.525196Z",
     "iopub.status.idle": "2024-06-26T01:55:15.106702Z",
     "shell.execute_reply": "2024-06-26T01:55:15.105519Z"
    },
    "papermill": {
     "duration": 5.59574,
     "end_time": "2024-06-26T01:55:15.110002",
     "exception": false,
     "start_time": "2024-06-26T01:55:09.514262",
     "status": "completed"
    },
    "tags": []
   },
   "outputs": [],
   "source": [
    "import pandas as pd\n",
    "import numpy as np\n",
    "import seaborn as sns\n",
    "import matplotlib.pyplot as plt\n",
    "import warnings\n",
    "import datetime as dt\n",
    "# import airportsdata as ap\n",
    "from timezonefinder import TimezoneFinder\n",
    "\n",
    "warnings.filterwarnings(\"ignore\")\n",
    "pd.options.display.max_columns = 200\n",
    "pd.options.display.max_rows = 400"
   ]
  },
  {
   "cell_type": "code",
   "execution_count": 3,
   "id": "14595118",
   "metadata": {
    "execution": {
     "iopub.execute_input": "2024-06-26T01:55:15.132730Z",
     "iopub.status.busy": "2024-06-26T01:55:15.131558Z",
     "iopub.status.idle": "2024-06-26T01:57:00.033690Z",
     "shell.execute_reply": "2024-06-26T01:57:00.032426Z"
    },
    "papermill": {
     "duration": 104.916098,
     "end_time": "2024-06-26T01:57:00.036759",
     "exception": false,
     "start_time": "2024-06-26T01:55:15.120661",
     "status": "completed"
    },
    "tags": []
   },
   "outputs": [],
   "source": [
    "## Load\n",
    "df = pd.read_csv('/kaggle/input/flight-delays/flights.csv')\n",
    "airl = pd.read_csv('/kaggle/input/flight-delays/airlines.csv')\n",
    "airp = pd.read_csv('/kaggle/input/flight-delays/airports.csv')\n",
    "\n",
    "## Cleaning\n",
    "df.columns = df.columns.str.lower()\n",
    "airp.columns = airp.columns.str.lower()\n",
    "\n",
    "airp.loc[airp['iata_code'] == \"UST\", [\"latitude\", \"longitude\"]] = (29.95815, -81.34163)\n",
    "airp.loc[airp['iata_code'] == \"ECP\", [\"latitude\", \"longitude\"]] = (30.3583, -85.7956)\n",
    "airp.loc[airp['iata_code'] == \"PBG\", [\"latitude\", \"longitude\"]] = (44.6509, -73.4663)\n",
    "\n",
    "df['scheduled_departure'] = [dt.time(x // 100, x % 100) for x in df['scheduled_departure']]\n",
    "df['std_date'] = pd.to_datetime(df[['year', 'month', 'day']])\n",
    "\n",
    "df['std_date_time'] = pd.to_datetime(df['std_date'].astype(str) + ' ' + df['scheduled_departure'].astype(str))\n",
    "df['sta_date_time'] = df['std_date_time'] + pd.to_timedelta(df['scheduled_time'], unit='m')\n",
    "df['atd_date_time'] = df['std_date_time'] + pd.to_timedelta(df['departure_delay'], unit='m')\n",
    "df['ata_date_time'] = df['atd_date_time'] + pd.to_timedelta(df['elapsed_time'], unit='m')\n",
    "\n",
    "df['anchor'] = df['airline'] + [str(x).zfill(5) for x in df['flight_number']] + '|' + df['std_date'].dt.strftime('%Y-%m-%d') + '|' + df['origin_airport'].astype(str)\n",
    "df['otp_dly15'] = np.where(df['departure_delay'] > 15, 0.0, 1.0)\n",
    "\n",
    "## Organize\n",
    "dly = [x for x in df.columns if 'delay' in x]\n",
    "num = [x for x in df.columns if df.dtypes[x] in ('float', 'int64')]\n",
    "cat = [x for x in df.columns if df.dtypes[x] == \"object\"]\n",
    "target = 'departure_delay'\n",
    "num.remove(target)\n",
    "\n",
    "## Split\n",
    "train = df.query('airline not in (\"AA\", \"US\", \"OO\")')\n",
    "test = df.query('airline == \"OO\"')"
   ]
  },
  {
   "cell_type": "code",
   "execution_count": 4,
   "id": "d36d93bb",
   "metadata": {
    "execution": {
     "iopub.execute_input": "2024-06-26T01:57:00.056577Z",
     "iopub.status.busy": "2024-06-26T01:57:00.056146Z",
     "iopub.status.idle": "2024-06-26T01:57:00.061929Z",
     "shell.execute_reply": "2024-06-26T01:57:00.060777Z"
    },
    "papermill": {
     "duration": 0.01844,
     "end_time": "2024-06-26T01:57:00.064363",
     "exception": false,
     "start_time": "2024-06-26T01:57:00.045923",
     "status": "completed"
    },
    "tags": []
   },
   "outputs": [],
   "source": [
    "def getTimezone(latlon):\n",
    "    lat, lon = latlon\n",
    "    tf = TimezoneFinder()\n",
    "    return tf.timezone_at(lat=lat, lng=lon)"
   ]
  },
  {
   "cell_type": "code",
   "execution_count": 5,
   "id": "1991ebc2",
   "metadata": {
    "execution": {
     "iopub.execute_input": "2024-06-26T01:57:00.084439Z",
     "iopub.status.busy": "2024-06-26T01:57:00.083721Z",
     "iopub.status.idle": "2024-06-26T01:57:00.100042Z",
     "shell.execute_reply": "2024-06-26T01:57:00.099019Z"
    },
    "papermill": {
     "duration": 0.028941,
     "end_time": "2024-06-26T01:57:00.102499",
     "exception": false,
     "start_time": "2024-06-26T01:57:00.073558",
     "status": "completed"
    },
    "tags": []
   },
   "outputs": [
    {
     "data": {
      "text/html": [
       "<div>\n",
       "<style scoped>\n",
       "    .dataframe tbody tr th:only-of-type {\n",
       "        vertical-align: middle;\n",
       "    }\n",
       "\n",
       "    .dataframe tbody tr th {\n",
       "        vertical-align: top;\n",
       "    }\n",
       "\n",
       "    .dataframe thead th {\n",
       "        text-align: right;\n",
       "    }\n",
       "</style>\n",
       "<table border=\"1\" class=\"dataframe\">\n",
       "  <thead>\n",
       "    <tr style=\"text-align: right;\">\n",
       "      <th></th>\n",
       "      <th>iata_code</th>\n",
       "      <th>latitude</th>\n",
       "      <th>longitude</th>\n",
       "    </tr>\n",
       "  </thead>\n",
       "  <tbody>\n",
       "  </tbody>\n",
       "</table>\n",
       "</div>"
      ],
      "text/plain": [
       "Empty DataFrame\n",
       "Columns: [iata_code, latitude, longitude]\n",
       "Index: []"
      ]
     },
     "execution_count": 5,
     "metadata": {},
     "output_type": "execute_result"
    }
   ],
   "source": [
    "airp.loc[airp['latitude'].isnull()][['iata_code', 'latitude', 'longitude']]"
   ]
  },
  {
   "cell_type": "code",
   "execution_count": 6,
   "id": "3c5abe95",
   "metadata": {
    "execution": {
     "iopub.execute_input": "2024-06-26T01:57:00.123191Z",
     "iopub.status.busy": "2024-06-26T01:57:00.122266Z",
     "iopub.status.idle": "2024-06-26T02:02:15.416228Z",
     "shell.execute_reply": "2024-06-26T02:02:15.415057Z"
    },
    "papermill": {
     "duration": 315.317346,
     "end_time": "2024-06-26T02:02:15.429083",
     "exception": false,
     "start_time": "2024-06-26T01:57:00.111737",
     "status": "completed"
    },
    "tags": []
   },
   "outputs": [
    {
     "name": "stdout",
     "output_type": "stream",
     "text": [
      "CPU times: user 3min 23s, sys: 1min 51s, total: 5min 14s\n",
      "Wall time: 5min 15s\n"
     ]
    },
    {
     "data": {
      "text/plain": [
       "0                  America/New_York\n",
       "1                   America/Chicago\n",
       "2                    America/Denver\n",
       "3                   America/Chicago\n",
       "4                  America/New_York\n",
       "5                  America/New_York\n",
       "6                   America/Chicago\n",
       "7               America/Los_Angeles\n",
       "8                  America/New_York\n",
       "9                      America/Adak\n",
       "10                America/Anchorage\n",
       "11                  America/Chicago\n",
       "12                 America/New_York\n",
       "13                America/Anchorage\n",
       "14                 America/New_York\n",
       "15                  America/Chicago\n",
       "16                  America/Chicago\n",
       "17                America/Anchorage\n",
       "18                  America/Detroit\n",
       "19                   America/Denver\n",
       "20                 America/New_York\n",
       "21                  America/Chicago\n",
       "22                  America/Chicago\n",
       "23                 America/New_York\n",
       "24                 America/New_York\n",
       "25                  America/Detroit\n",
       "26                 America/New_York\n",
       "27                America/Anchorage\n",
       "28              America/Los_Angeles\n",
       "29                 America/New_York\n",
       "30                 America/New_York\n",
       "31                  America/Chicago\n",
       "32                   America/Denver\n",
       "33                  America/Chicago\n",
       "34                  America/Chicago\n",
       "35              America/Los_Angeles\n",
       "36                  America/Chicago\n",
       "37                  America/Chicago\n",
       "38                    America/Boise\n",
       "39                 America/New_York\n",
       "40                  America/Chicago\n",
       "41                 America/New_York\n",
       "42              America/Puerto_Rico\n",
       "43                  America/Chicago\n",
       "44                  America/Chicago\n",
       "45                America/Anchorage\n",
       "46                   America/Denver\n",
       "47                  America/Chicago\n",
       "48                 America/New_York\n",
       "49                 America/New_York\n",
       "50              America/Los_Angeles\n",
       "51                 America/New_York\n",
       "52                   America/Denver\n",
       "53                 America/New_York\n",
       "54                 America/New_York\n",
       "55                   America/Denver\n",
       "56                America/Anchorage\n",
       "57              America/Los_Angeles\n",
       "58                 America/New_York\n",
       "59                 America/New_York\n",
       "60                 America/New_York\n",
       "61                  America/Chicago\n",
       "62                  America/Detroit\n",
       "63              America/Los_Angeles\n",
       "64                 America/New_York\n",
       "65                  America/Chicago\n",
       "66                 America/New_York\n",
       "67                 America/New_York\n",
       "68                  America/Chicago\n",
       "69                  America/Detroit\n",
       "70                   America/Denver\n",
       "71                   America/Denver\n",
       "72                   America/Denver\n",
       "73                  America/Chicago\n",
       "74                   America/Denver\n",
       "75                  America/Chicago\n",
       "76                 America/New_York\n",
       "77                 America/New_York\n",
       "78                 America/New_York\n",
       "79                  America/Chicago\n",
       "80                 America/New_York\n",
       "81                  America/Chicago\n",
       "82                 America/New_York\n",
       "83                  America/Chicago\n",
       "84                 America/New_York\n",
       "85                   America/Denver\n",
       "86                  America/Chicago\n",
       "87                  America/Chicago\n",
       "88                   America/Denver\n",
       "89                America/Anchorage\n",
       "90                  America/Chicago\n",
       "91                   America/Denver\n",
       "92                  America/Chicago\n",
       "93                  America/Detroit\n",
       "94                  America/Chicago\n",
       "95                  America/Chicago\n",
       "96                  America/Chicago\n",
       "97                   America/Denver\n",
       "98              America/Los_Angeles\n",
       "99                 America/New_York\n",
       "100                  America/Denver\n",
       "101                America/New_York\n",
       "102                 America/Detroit\n",
       "103             America/Los_Angeles\n",
       "104                 America/Chicago\n",
       "105                America/New_York\n",
       "106                America/New_York\n",
       "107                America/New_York\n",
       "108               America/Anchorage\n",
       "109                 America/Chicago\n",
       "110             America/Los_Angeles\n",
       "111                America/New_York\n",
       "112                  America/Denver\n",
       "113                 America/Phoenix\n",
       "114                America/New_York\n",
       "115                 America/Detroit\n",
       "116                 America/Chicago\n",
       "117                 America/Chicago\n",
       "118    America/Indiana/Indianapolis\n",
       "119                  America/Denver\n",
       "120                 America/Chicago\n",
       "121             America/Los_Angeles\n",
       "122                 America/Chicago\n",
       "123                 America/Chicago\n",
       "124                  America/Denver\n",
       "125                America/New_York\n",
       "126                 America/Chicago\n",
       "127                 America/Chicago\n",
       "128                 America/Chicago\n",
       "129                 America/Chicago\n",
       "130                 America/Detroit\n",
       "131                America/New_York\n",
       "132                America/New_York\n",
       "133                  America/Juneau\n",
       "134                  America/Denver\n",
       "135                 America/Chicago\n",
       "136                  America/Denver\n",
       "137                      Etc/GMT+10\n",
       "138                  America/Denver\n",
       "139                 America/Chicago\n",
       "140                  America/Denver\n",
       "141                Pacific/Honolulu\n",
       "142                  America/Denver\n",
       "143                 America/Chicago\n",
       "144                America/New_York\n",
       "145                 America/Chicago\n",
       "146                 America/Chicago\n",
       "147                America/New_York\n",
       "148                 America/Chicago\n",
       "149                America/New_York\n",
       "150                America/New_York\n",
       "151                 America/Chicago\n",
       "152                 America/Chicago\n",
       "153                   America/Boise\n",
       "154                America/New_York\n",
       "155                America/New_York\n",
       "156               America/Menominee\n",
       "157    America/Indiana/Indianapolis\n",
       "158                 America/Chicago\n",
       "159                 America/Chicago\n",
       "160                America/New_York\n",
       "161                America/New_York\n",
       "162                Pacific/Honolulu\n",
       "163                  America/Denver\n",
       "164                 America/Chicago\n",
       "165                America/New_York\n",
       "166                America/New_York\n",
       "167                 America/Chicago\n",
       "168                 America/Chicago\n",
       "169                  America/Juneau\n",
       "170                Pacific/Honolulu\n",
       "171                   America/Sitka\n",
       "172                 America/Detroit\n",
       "173                  America/Denver\n",
       "174             America/Los_Angeles\n",
       "175                 America/Chicago\n",
       "176             America/Los_Angeles\n",
       "177                 America/Chicago\n",
       "178                America/New_York\n",
       "179                 America/Chicago\n",
       "180                America/New_York\n",
       "181                 America/Chicago\n",
       "182                America/New_York\n",
       "183             America/Los_Angeles\n",
       "184                Pacific/Honolulu\n",
       "185                 America/Chicago\n",
       "186                 America/Chicago\n",
       "187                 America/Chicago\n",
       "188                 America/Chicago\n",
       "189             America/Los_Angeles\n",
       "190                 America/Chicago\n",
       "191                 America/Detroit\n",
       "192                 America/Chicago\n",
       "193                America/New_York\n",
       "194                America/New_York\n",
       "195                 America/Chicago\n",
       "196                 America/Chicago\n",
       "197                 America/Chicago\n",
       "198                 America/Chicago\n",
       "199             America/Los_Angeles\n",
       "200                 America/Chicago\n",
       "201                 America/Chicago\n",
       "202                America/New_York\n",
       "203                America/New_York\n",
       "204                 America/Chicago\n",
       "205                 America/Detroit\n",
       "206                America/New_York\n",
       "207                 America/Chicago\n",
       "208                 America/Chicago\n",
       "209             America/Los_Angeles\n",
       "210                 America/Chicago\n",
       "211                 America/Chicago\n",
       "212                 America/Detroit\n",
       "213             America/Los_Angeles\n",
       "214                 America/Chicago\n",
       "215                  America/Denver\n",
       "216                 America/Chicago\n",
       "217                 America/Chicago\n",
       "218                  America/Denver\n",
       "219                America/New_York\n",
       "220                America/New_York\n",
       "221                America/New_York\n",
       "222             America/Los_Angeles\n",
       "223                Pacific/Honolulu\n",
       "224                 America/Chicago\n",
       "225                 America/Chicago\n",
       "226                    America/Nome\n",
       "227             America/Los_Angeles\n",
       "228                 America/Chicago\n",
       "229                America/New_York\n",
       "230                America/New_York\n",
       "231             America/Los_Angeles\n",
       "232                    America/Nome\n",
       "233                 America/Chicago\n",
       "234                America/New_York\n",
       "235                America/New_York\n",
       "236             America/Los_Angeles\n",
       "237                America/New_York\n",
       "238                America/New_York\n",
       "239                 America/Phoenix\n",
       "240                 America/Chicago\n",
       "241                 America/Chicago\n",
       "242                   America/Boise\n",
       "243                America/New_York\n",
       "244                 America/Detroit\n",
       "245                 America/Chicago\n",
       "246                      Etc/GMT+11\n",
       "247             America/Los_Angeles\n",
       "248             America/Puerto_Rico\n",
       "249                   America/Sitka\n",
       "250             America/Los_Angeles\n",
       "251                  America/Denver\n",
       "252                America/New_York\n",
       "253                America/New_York\n",
       "254                  America/Denver\n",
       "255             America/Los_Angeles\n",
       "256             America/Los_Angeles\n",
       "257                America/New_York\n",
       "258                 America/Chicago\n",
       "259                America/New_York\n",
       "260                  America/Denver\n",
       "261             America/Los_Angeles\n",
       "262                America/New_York\n",
       "263                America/New_York\n",
       "264                  America/Denver\n",
       "265                 America/Chicago\n",
       "266                America/New_York\n",
       "267                  America/Denver\n",
       "268             America/Los_Angeles\n",
       "269                 America/Chicago\n",
       "270                America/New_York\n",
       "271             America/Los_Angeles\n",
       "272    America/Indiana/Indianapolis\n",
       "273             America/Los_Angeles\n",
       "274               America/Anchorage\n",
       "275                America/New_York\n",
       "276     America/Kentucky/Louisville\n",
       "277             America/Los_Angeles\n",
       "278             America/Los_Angeles\n",
       "279                 America/Chicago\n",
       "280                  America/Denver\n",
       "281                 America/Chicago\n",
       "282                   America/Sitka\n",
       "283             America/Los_Angeles\n",
       "284                 America/Chicago\n",
       "285             America/Puerto_Rico\n",
       "286                  America/Denver\n",
       "287             America/Los_Angeles\n",
       "288             America/Los_Angeles\n",
       "289             America/Los_Angeles\n",
       "290                 America/Chicago\n",
       "291                 America/Chicago\n",
       "292                America/New_York\n",
       "293                 America/Chicago\n",
       "294                 America/Chicago\n",
       "295               America/St_Thomas\n",
       "296               America/St_Thomas\n",
       "297                   America/Boise\n",
       "298                 America/Chicago\n",
       "299                America/New_York\n",
       "300                America/New_York\n",
       "301                America/New_York\n",
       "302                America/New_York\n",
       "303                America/New_York\n",
       "304                America/New_York\n",
       "305                America/New_York\n",
       "306                 America/Chicago\n",
       "307                 America/Phoenix\n",
       "308                 America/Detroit\n",
       "309                   America/Boise\n",
       "310                 America/Chicago\n",
       "311                 America/Chicago\n",
       "312                America/New_York\n",
       "313                America/New_York\n",
       "314                  America/Denver\n",
       "315                America/New_York\n",
       "316                 America/Chicago\n",
       "317                   America/Sitka\n",
       "318                  America/Denver\n",
       "319                 America/Chicago\n",
       "320                 America/Yakutat\n",
       "321                 America/Phoenix\n",
       "dtype: object"
      ]
     },
     "execution_count": 6,
     "metadata": {},
     "output_type": "execute_result"
    }
   ],
   "source": [
    "%%time\n",
    "airp[['latitude', 'longitude']].apply(getTimezone, axis=1)"
   ]
  },
  {
   "cell_type": "code",
   "execution_count": null,
   "id": "f291cc62",
   "metadata": {
    "papermill": {
     "duration": 0.01038,
     "end_time": "2024-06-26T02:02:15.449662",
     "exception": false,
     "start_time": "2024-06-26T02:02:15.439282",
     "status": "completed"
    },
    "tags": []
   },
   "outputs": [],
   "source": []
  },
  {
   "cell_type": "markdown",
   "id": "535e7b2e",
   "metadata": {
    "papermill": {
     "duration": 0.009858,
     "end_time": "2024-06-26T02:02:15.470002",
     "exception": false,
     "start_time": "2024-06-26T02:02:15.460144",
     "status": "completed"
    },
    "tags": []
   },
   "source": [
    "# 🤓Data Science"
   ]
  },
  {
   "cell_type": "code",
   "execution_count": 7,
   "id": "a020e204",
   "metadata": {
    "execution": {
     "iopub.execute_input": "2024-06-26T02:02:15.492542Z",
     "iopub.status.busy": "2024-06-26T02:02:15.491797Z",
     "iopub.status.idle": "2024-06-26T02:02:23.185986Z",
     "shell.execute_reply": "2024-06-26T02:02:23.184557Z"
    },
    "papermill": {
     "duration": 7.708603,
     "end_time": "2024-06-26T02:02:23.188919",
     "exception": false,
     "start_time": "2024-06-26T02:02:15.480316",
     "status": "completed"
    },
    "tags": []
   },
   "outputs": [
    {
     "data": {
      "text/plain": [
       "departure_delay        1.000000\n",
       "arrival_delay          0.944818\n",
       "airline_delay          0.587769\n",
       "late_aircraft_delay    0.559684\n",
       "weather_delay          0.251968\n",
       "departure_time         0.181721\n",
       "wheels_off             0.171962\n",
       "air_system_delay       0.128953\n",
       "scheduled_arrival      0.107135\n",
       "taxi_out               0.065530\n",
       "wheels_on              0.057823\n",
       "arrival_time           0.047801\n",
       "cancelled              0.035646\n",
       "elapsed_time           0.033674\n",
       "scheduled_time         0.029432\n",
       "distance               0.025458\n",
       "diverted               0.025350\n",
       "air_time               0.025053\n",
       "taxi_in                0.023484\n",
       "security_delay         0.011277\n",
       "day                   -0.000214\n",
       "flight_number         -0.006996\n",
       "day_of_week           -0.014607\n",
       "month                 -0.024249\n",
       "otp_dly15             -0.659777\n",
       "year                        NaN\n",
       "Name: departure_delay, dtype: float64"
      ]
     },
     "execution_count": 7,
     "metadata": {},
     "output_type": "execute_result"
    }
   ],
   "source": [
    "train.corr(numeric_only=True)[target].sort_values(ascending=False)"
   ]
  },
  {
   "cell_type": "markdown",
   "id": "f90d01df",
   "metadata": {
    "papermill": {
     "duration": 0.00996,
     "end_time": "2024-06-26T02:02:23.209224",
     "exception": false,
     "start_time": "2024-06-26T02:02:23.199264",
     "status": "completed"
    },
    "tags": []
   },
   "source": [
    "# > Merger of American and US Airways\n",
    "There was a Merger of American Airlines and US Airways in June 2015. Southwest, Delta and American Airlines have the biggest voume of flights in 2015."
   ]
  },
  {
   "cell_type": "code",
   "execution_count": 8,
   "id": "863227ed",
   "metadata": {
    "execution": {
     "iopub.execute_input": "2024-06-26T02:02:23.231549Z",
     "iopub.status.busy": "2024-06-26T02:02:23.231105Z",
     "iopub.status.idle": "2024-06-26T02:02:23.236611Z",
     "shell.execute_reply": "2024-06-26T02:02:23.235364Z"
    },
    "papermill": {
     "duration": 0.019765,
     "end_time": "2024-06-26T02:02:23.239180",
     "exception": false,
     "start_time": "2024-06-26T02:02:23.219415",
     "status": "completed"
    },
    "tags": []
   },
   "outputs": [],
   "source": [
    "# g = df.pivot_table('flight_number', index='airline'\n",
    "#               , columns=[df['year'], df['month']]\n",
    "#               , aggfunc='count') / 1000\n",
    "# g.index = g.index.map(rairline.set_index('IATA_CODE')['AIRLINE'])\n",
    "# sns.heatmap(g, cmap='RdBu', annot=True, fmt='.0f')\n",
    "\n",
    "# plt.title(\"Volume Count by Airline by thousands\");"
   ]
  },
  {
   "cell_type": "markdown",
   "id": "679138c2",
   "metadata": {
    "papermill": {
     "duration": 0.009862,
     "end_time": "2024-06-26T02:02:23.259407",
     "exception": false,
     "start_time": "2024-06-26T02:02:23.249545",
     "status": "completed"
    },
    "tags": []
   },
   "source": [
    "# > Airline Departure On-Time Performance.\n",
    "Lower volume flights like Hawaiian, Virgin and Alaska Airlines are almost always on time. Delta and American airlines are also on time taking into consideration that they have more flights in 2015."
   ]
  },
  {
   "cell_type": "code",
   "execution_count": 9,
   "id": "6a489041",
   "metadata": {
    "execution": {
     "iopub.execute_input": "2024-06-26T02:02:23.281892Z",
     "iopub.status.busy": "2024-06-26T02:02:23.281466Z",
     "iopub.status.idle": "2024-06-26T02:02:23.287004Z",
     "shell.execute_reply": "2024-06-26T02:02:23.285775Z"
    },
    "papermill": {
     "duration": 0.01976,
     "end_time": "2024-06-26T02:02:23.289456",
     "exception": false,
     "start_time": "2024-06-26T02:02:23.269696",
     "status": "completed"
    },
    "tags": []
   },
   "outputs": [],
   "source": [
    "# g = train.query('cancelled == 0 and diverted == 0')\n",
    "# g = g.pivot_table(target, index='airline'\n",
    "#              , columns=[g['year'], g['std_date'].dt.month]\n",
    "#              , aggfunc='mean')  * 100\n",
    "# g.index = g.index.map(rairline.set_index('IATA_CODE')['AIRLINE'])\n",
    "# sns.heatmap(g, annot=True, cmap='RdBu')\n",
    "# plt.title('Average On-Time Flights by Airline');"
   ]
  },
  {
   "cell_type": "markdown",
   "id": "eb48153f",
   "metadata": {
    "papermill": {
     "duration": 0.010293,
     "end_time": "2024-06-26T02:02:23.309995",
     "exception": false,
     "start_time": "2024-06-26T02:02:23.299702",
     "status": "completed"
    },
    "tags": []
   },
   "source": [
    "# > Flight Plan"
   ]
  },
  {
   "cell_type": "code",
   "execution_count": 10,
   "id": "8388e40d",
   "metadata": {
    "execution": {
     "iopub.execute_input": "2024-06-26T02:02:23.333173Z",
     "iopub.status.busy": "2024-06-26T02:02:23.331729Z",
     "iopub.status.idle": "2024-06-26T02:02:23.585856Z",
     "shell.execute_reply": "2024-06-26T02:02:23.584540Z"
    },
    "papermill": {
     "duration": 0.268492,
     "end_time": "2024-06-26T02:02:23.588614",
     "exception": false,
     "start_time": "2024-06-26T02:02:23.320122",
     "status": "completed"
    },
    "tags": []
   },
   "outputs": [],
   "source": [
    "vx = train.query('airline==\"VX\"')"
   ]
  },
  {
   "cell_type": "code",
   "execution_count": 11,
   "id": "88ece5b0",
   "metadata": {
    "execution": {
     "iopub.execute_input": "2024-06-26T02:02:23.611202Z",
     "iopub.status.busy": "2024-06-26T02:02:23.610800Z",
     "iopub.status.idle": "2024-06-26T02:02:24.250673Z",
     "shell.execute_reply": "2024-06-26T02:02:24.249615Z"
    },
    "papermill": {
     "duration": 0.654503,
     "end_time": "2024-06-26T02:02:24.253668",
     "exception": false,
     "start_time": "2024-06-26T02:02:23.599165",
     "status": "completed"
    },
    "tags": []
   },
   "outputs": [
    {
     "data": {
      "image/png": "[encoded data removed]",
      "text/plain": [
       "<Figure size 700x600 with 1 Axes>"
      ]
     },
     "metadata": {},
     "output_type": "display_data"
    }
   ],
   "source": [
    "g = vx.query('tail_number == \"N361VA\"')\n",
    "g = g.query('\"2015-02-06\" <= std_date <= \"2015-02-07\"')\n",
    "g = g.loc[~g['departure_delay'].isnull()]\n",
    "g = g[[\n",
    "    'anchor'\n",
    "    ,'std_date_time'\n",
    "   , 'sta_date_time'    \n",
    "   , 'atd_date_time'\n",
    "   , 'ata_date_time'\n",
    "#    , 'scheduled_time'\n",
    "#        , 'elapsed_time'\n",
    "#        , 'scheduled_arrival'\n",
    "#        , 'arrival_time'\n",
    "#        , 'arrival_delay'\n",
    "#        , 'late_aircraft_delay'\n",
    "#     , target\n",
    "      ]]\n",
    "\n",
    "g = g.sort_values(by='std_date_time')\n",
    "# g['diff'] = (g['ata_date_time'] - g['sta_date_time']).dt.total_seconds() / 60\n",
    "# g\n",
    "g = pd.melt(g, id_vars='anchor', var_name='marker', value_name='timestamp')\n",
    "g['stamp'] = g['marker'].str[2:3]\n",
    "fig, ax = plt.subplots(figsize=(7,6))\n",
    "sns.scatterplot (g, x='timestamp', y='anchor'\n",
    "                 , hue='marker'\n",
    "                 , style='stamp'\n",
    "                 , markers={'d': '>', 'a': 'X'}\n",
    "                 , ax=ax);"
   ]
  },
  {
   "cell_type": "code",
   "execution_count": 12,
   "id": "a4418bd6",
   "metadata": {
    "execution": {
     "iopub.execute_input": "2024-06-26T02:02:24.278037Z",
     "iopub.status.busy": "2024-06-26T02:02:24.277635Z",
     "iopub.status.idle": "2024-06-26T02:02:24.282823Z",
     "shell.execute_reply": "2024-06-26T02:02:24.281653Z"
    },
    "papermill": {
     "duration": 0.020261,
     "end_time": "2024-06-26T02:02:24.285131",
     "exception": false,
     "start_time": "2024-06-26T02:02:24.264870",
     "status": "completed"
    },
    "tags": []
   },
   "outputs": [],
   "source": [
    "# df['std_ls_date_time'] = df[['std_date_time', 'tz']].apply(lambda x: \n",
    "#                                   x['std_date_time'].tz_localize(\n",
    "#                                       x['tz'], ambiguous='NaT')\n",
    "#                                   if pd.notna(x['std_date_time']) \n",
    "#                                   and pd.notna(x['tz']) else pd.NaT, axis=1)"
   ]
  }
 ],
 "metadata": {
  "kaggle": {
   "accelerator": "none",
   "dataSources": [
    {
     "datasetId": 810,
     "sourceId": 1496,
     "sourceType": "datasetVersion"
    }
   ],
   "dockerImageVersionId": 30646,
   "isGpuEnabled": false,
   "isInternetEnabled": true,
   "language": "python",
   "sourceType": "notebook"
  },
  "kernelspec": {
   "display_name": "Python 3",
   "language": "python",
   "name": "python3"
  },
  "language_info": {
   "codemirror_mode": {
    "name": "ipython",
    "version": 3
   },
   "file_extension": ".py",
   "mimetype": "text/x-python",
   "name": "python",
   "nbconvert_exporter": "python",
   "pygments_lexer": "ipython3",
   "version": "3.10.13"
  },
  "papermill": {
   "default_parameters": {},
   "duration": 458.117076,
   "end_time": "2024-06-26T02:02:26.023534",
   "environment_variables": {},
   "exception": null,
   "input_path": "__notebook__.ipynb",
   "output_path": "__notebook__.ipynb",
   "parameters": {},
   "start_time": "2024-06-26T01:54:47.906458",
   "version": "2.5.0"
  }
 },
 "nbformat": 4,
 "nbformat_minor": 5
}
