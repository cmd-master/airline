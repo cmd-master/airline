{
 "cells": [
  {
   "cell_type": "code",
   "execution_count": 1,
   "id": "12176167",
   "metadata": {
    "execution": {
     "iopub.execute_input": "2025-04-23T00:20:09.929522Z",
     "iopub.status.busy": "2025-04-23T00:20:09.929128Z",
     "iopub.status.idle": "2025-04-23T00:20:56.968072Z",
     "shell.execute_reply": "2025-04-23T00:20:56.967125Z"
    },
    "papermill": {
     "duration": 47.046042,
     "end_time": "2025-04-23T00:20:56.969908",
     "exception": false,
     "start_time": "2025-04-23T00:20:09.923866",
     "status": "completed"
    },
    "tags": []
   },
   "outputs": [],
   "source": [
    "import pandas as pd\n",
    "import numpy as np\n",
    "import seaborn as sns\n",
    "\n",
    "df = pd.read_csv('/kaggle/input/2023-us-civil-flights-delay-meteo-and-aircraft/US_flights_2023.csv')"
   ]
  },
  {
   "cell_type": "code",
   "execution_count": 2,
   "id": "6659c02a",
   "metadata": {
    "execution": {
     "iopub.execute_input": "2025-04-23T00:20:56.978617Z",
     "iopub.status.busy": "2025-04-23T00:20:56.978303Z",
     "iopub.status.idle": "2025-04-23T00:20:57.003486Z",
     "shell.execute_reply": "2025-04-23T00:20:57.002506Z"
    },
    "papermill": {
     "duration": 0.031526,
     "end_time": "2025-04-23T00:20:57.005358",
     "exception": false,
     "start_time": "2025-04-23T00:20:56.973832",
     "status": "completed"
    },
    "tags": []
   },
   "outputs": [
    {
     "data": {
      "text/html": [
       "<div>\n",
       "<style scoped>\n",
       "    .dataframe tbody tr th:only-of-type {\n",
       "        vertical-align: middle;\n",
       "    }\n",
       "\n",
       "    .dataframe tbody tr th {\n",
       "        vertical-align: top;\n",
       "    }\n",
       "\n",
       "    .dataframe thead th {\n",
       "        text-align: right;\n",
       "    }\n",
       "</style>\n",
       "<table border=\"1\" class=\"dataframe\">\n",
       "  <thead>\n",
       "    <tr style=\"text-align: right;\">\n",
       "      <th></th>\n",
       "      <th>0</th>\n",
       "      <th>1</th>\n",
       "      <th>2</th>\n",
       "      <th>3</th>\n",
       "      <th>4</th>\n",
       "    </tr>\n",
       "  </thead>\n",
       "  <tbody>\n",
       "    <tr>\n",
       "      <th>FlightDate</th>\n",
       "      <td>2023-01-02</td>\n",
       "      <td>2023-01-03</td>\n",
       "      <td>2023-01-04</td>\n",
       "      <td>2023-01-05</td>\n",
       "      <td>2023-01-06</td>\n",
       "    </tr>\n",
       "    <tr>\n",
       "      <th>Day_Of_Week</th>\n",
       "      <td>1</td>\n",
       "      <td>2</td>\n",
       "      <td>3</td>\n",
       "      <td>4</td>\n",
       "      <td>5</td>\n",
       "    </tr>\n",
       "    <tr>\n",
       "      <th>Airline</th>\n",
       "      <td>Endeavor Air</td>\n",
       "      <td>Endeavor Air</td>\n",
       "      <td>Endeavor Air</td>\n",
       "      <td>Endeavor Air</td>\n",
       "      <td>Endeavor Air</td>\n",
       "    </tr>\n",
       "    <tr>\n",
       "      <th>Tail_Number</th>\n",
       "      <td>N605LR</td>\n",
       "      <td>N605LR</td>\n",
       "      <td>N331PQ</td>\n",
       "      <td>N906XJ</td>\n",
       "      <td>N337PQ</td>\n",
       "    </tr>\n",
       "    <tr>\n",
       "      <th>Dep_Airport</th>\n",
       "      <td>BDL</td>\n",
       "      <td>BDL</td>\n",
       "      <td>BDL</td>\n",
       "      <td>BDL</td>\n",
       "      <td>BDL</td>\n",
       "    </tr>\n",
       "    <tr>\n",
       "      <th>Dep_CityName</th>\n",
       "      <td>Hartford, CT</td>\n",
       "      <td>Hartford, CT</td>\n",
       "      <td>Hartford, CT</td>\n",
       "      <td>Hartford, CT</td>\n",
       "      <td>Hartford, CT</td>\n",
       "    </tr>\n",
       "    <tr>\n",
       "      <th>DepTime_label</th>\n",
       "      <td>Morning</td>\n",
       "      <td>Morning</td>\n",
       "      <td>Morning</td>\n",
       "      <td>Morning</td>\n",
       "      <td>Morning</td>\n",
       "    </tr>\n",
       "    <tr>\n",
       "      <th>Dep_Delay</th>\n",
       "      <td>-3</td>\n",
       "      <td>-5</td>\n",
       "      <td>-5</td>\n",
       "      <td>-6</td>\n",
       "      <td>-1</td>\n",
       "    </tr>\n",
       "    <tr>\n",
       "      <th>Dep_Delay_Tag</th>\n",
       "      <td>0</td>\n",
       "      <td>0</td>\n",
       "      <td>0</td>\n",
       "      <td>0</td>\n",
       "      <td>0</td>\n",
       "    </tr>\n",
       "    <tr>\n",
       "      <th>Dep_Delay_Type</th>\n",
       "      <td>Low &lt;5min</td>\n",
       "      <td>Low &lt;5min</td>\n",
       "      <td>Low &lt;5min</td>\n",
       "      <td>Low &lt;5min</td>\n",
       "      <td>Low &lt;5min</td>\n",
       "    </tr>\n",
       "    <tr>\n",
       "      <th>Arr_Airport</th>\n",
       "      <td>LGA</td>\n",
       "      <td>LGA</td>\n",
       "      <td>LGA</td>\n",
       "      <td>LGA</td>\n",
       "      <td>LGA</td>\n",
       "    </tr>\n",
       "    <tr>\n",
       "      <th>Arr_CityName</th>\n",
       "      <td>New York, NY</td>\n",
       "      <td>New York, NY</td>\n",
       "      <td>New York, NY</td>\n",
       "      <td>New York, NY</td>\n",
       "      <td>New York, NY</td>\n",
       "    </tr>\n",
       "    <tr>\n",
       "      <th>Arr_Delay</th>\n",
       "      <td>-12</td>\n",
       "      <td>-8</td>\n",
       "      <td>-21</td>\n",
       "      <td>-17</td>\n",
       "      <td>-16</td>\n",
       "    </tr>\n",
       "    <tr>\n",
       "      <th>Arr_Delay_Type</th>\n",
       "      <td>Low &lt;5min</td>\n",
       "      <td>Low &lt;5min</td>\n",
       "      <td>Low &lt;5min</td>\n",
       "      <td>Low &lt;5min</td>\n",
       "      <td>Low &lt;5min</td>\n",
       "    </tr>\n",
       "    <tr>\n",
       "      <th>Flight_Duration</th>\n",
       "      <td>56</td>\n",
       "      <td>62</td>\n",
       "      <td>49</td>\n",
       "      <td>54</td>\n",
       "      <td>50</td>\n",
       "    </tr>\n",
       "    <tr>\n",
       "      <th>Distance_type</th>\n",
       "      <td>Short Haul &gt;1500Mi</td>\n",
       "      <td>Short Haul &gt;1500Mi</td>\n",
       "      <td>Short Haul &gt;1500Mi</td>\n",
       "      <td>Short Haul &gt;1500Mi</td>\n",
       "      <td>Short Haul &gt;1500Mi</td>\n",
       "    </tr>\n",
       "    <tr>\n",
       "      <th>Delay_Carrier</th>\n",
       "      <td>0</td>\n",
       "      <td>0</td>\n",
       "      <td>0</td>\n",
       "      <td>0</td>\n",
       "      <td>0</td>\n",
       "    </tr>\n",
       "    <tr>\n",
       "      <th>Delay_Weather</th>\n",
       "      <td>0</td>\n",
       "      <td>0</td>\n",
       "      <td>0</td>\n",
       "      <td>0</td>\n",
       "      <td>0</td>\n",
       "    </tr>\n",
       "    <tr>\n",
       "      <th>Delay_NAS</th>\n",
       "      <td>0</td>\n",
       "      <td>0</td>\n",
       "      <td>0</td>\n",
       "      <td>0</td>\n",
       "      <td>0</td>\n",
       "    </tr>\n",
       "    <tr>\n",
       "      <th>Delay_Security</th>\n",
       "      <td>0</td>\n",
       "      <td>0</td>\n",
       "      <td>0</td>\n",
       "      <td>0</td>\n",
       "      <td>0</td>\n",
       "    </tr>\n",
       "    <tr>\n",
       "      <th>Delay_LastAircraft</th>\n",
       "      <td>0</td>\n",
       "      <td>0</td>\n",
       "      <td>0</td>\n",
       "      <td>0</td>\n",
       "      <td>0</td>\n",
       "    </tr>\n",
       "    <tr>\n",
       "      <th>Manufacturer</th>\n",
       "      <td>CANADAIR REGIONAL JET</td>\n",
       "      <td>CANADAIR REGIONAL JET</td>\n",
       "      <td>CANADAIR REGIONAL JET</td>\n",
       "      <td>CANADAIR REGIONAL JET</td>\n",
       "      <td>CANADAIR REGIONAL JET</td>\n",
       "    </tr>\n",
       "    <tr>\n",
       "      <th>Model</th>\n",
       "      <td>CRJ</td>\n",
       "      <td>CRJ</td>\n",
       "      <td>CRJ</td>\n",
       "      <td>CRJ</td>\n",
       "      <td>CRJ</td>\n",
       "    </tr>\n",
       "    <tr>\n",
       "      <th>Aicraft_age</th>\n",
       "      <td>16</td>\n",
       "      <td>16</td>\n",
       "      <td>10</td>\n",
       "      <td>17</td>\n",
       "      <td>10</td>\n",
       "    </tr>\n",
       "  </tbody>\n",
       "</table>\n",
       "</div>"
      ],
      "text/plain": [
       "                                        0                      1  \\\n",
       "FlightDate                     2023-01-02             2023-01-03   \n",
       "Day_Of_Week                             1                      2   \n",
       "Airline                      Endeavor Air           Endeavor Air   \n",
       "Tail_Number                        N605LR                 N605LR   \n",
       "Dep_Airport                           BDL                    BDL   \n",
       "Dep_CityName                 Hartford, CT           Hartford, CT   \n",
       "DepTime_label                     Morning                Morning   \n",
       "Dep_Delay                              -3                     -5   \n",
       "Dep_Delay_Tag                           0                      0   \n",
       "Dep_Delay_Type                  Low <5min              Low <5min   \n",
       "Arr_Airport                           LGA                    LGA   \n",
       "Arr_CityName                 New York, NY           New York, NY   \n",
       "Arr_Delay                             -12                     -8   \n",
       "Arr_Delay_Type                  Low <5min              Low <5min   \n",
       "Flight_Duration                        56                     62   \n",
       "Distance_type          Short Haul >1500Mi     Short Haul >1500Mi   \n",
       "Delay_Carrier                           0                      0   \n",
       "Delay_Weather                           0                      0   \n",
       "Delay_NAS                               0                      0   \n",
       "Delay_Security                          0                      0   \n",
       "Delay_LastAircraft                      0                      0   \n",
       "Manufacturer        CANADAIR REGIONAL JET  CANADAIR REGIONAL JET   \n",
       "Model                                 CRJ                    CRJ   \n",
       "Aicraft_age                            16                     16   \n",
       "\n",
       "                                        2                      3  \\\n",
       "FlightDate                     2023-01-04             2023-01-05   \n",
       "Day_Of_Week                             3                      4   \n",
       "Airline                      Endeavor Air           Endeavor Air   \n",
       "Tail_Number                        N331PQ                 N906XJ   \n",
       "Dep_Airport                           BDL                    BDL   \n",
       "Dep_CityName                 Hartford, CT           Hartford, CT   \n",
       "DepTime_label                     Morning                Morning   \n",
       "Dep_Delay                              -5                     -6   \n",
       "Dep_Delay_Tag                           0                      0   \n",
       "Dep_Delay_Type                  Low <5min              Low <5min   \n",
       "Arr_Airport                           LGA                    LGA   \n",
       "Arr_CityName                 New York, NY           New York, NY   \n",
       "Arr_Delay                             -21                    -17   \n",
       "Arr_Delay_Type                  Low <5min              Low <5min   \n",
       "Flight_Duration                        49                     54   \n",
       "Distance_type          Short Haul >1500Mi     Short Haul >1500Mi   \n",
       "Delay_Carrier                           0                      0   \n",
       "Delay_Weather                           0                      0   \n",
       "Delay_NAS                               0                      0   \n",
       "Delay_Security                          0                      0   \n",
       "Delay_LastAircraft                      0                      0   \n",
       "Manufacturer        CANADAIR REGIONAL JET  CANADAIR REGIONAL JET   \n",
       "Model                                 CRJ                    CRJ   \n",
       "Aicraft_age                            10                     17   \n",
       "\n",
       "                                        4  \n",
       "FlightDate                     2023-01-06  \n",
       "Day_Of_Week                             5  \n",
       "Airline                      Endeavor Air  \n",
       "Tail_Number                        N337PQ  \n",
       "Dep_Airport                           BDL  \n",
       "Dep_CityName                 Hartford, CT  \n",
       "DepTime_label                     Morning  \n",
       "Dep_Delay                              -1  \n",
       "Dep_Delay_Tag                           0  \n",
       "Dep_Delay_Type                  Low <5min  \n",
       "Arr_Airport                           LGA  \n",
       "Arr_CityName                 New York, NY  \n",
       "Arr_Delay                             -16  \n",
       "Arr_Delay_Type                  Low <5min  \n",
       "Flight_Duration                        50  \n",
       "Distance_type          Short Haul >1500Mi  \n",
       "Delay_Carrier                           0  \n",
       "Delay_Weather                           0  \n",
       "Delay_NAS                               0  \n",
       "Delay_Security                          0  \n",
       "Delay_LastAircraft                      0  \n",
       "Manufacturer        CANADAIR REGIONAL JET  \n",
       "Model                                 CRJ  \n",
       "Aicraft_age                            10  "
      ]
     },
     "execution_count": 2,
     "metadata": {},
     "output_type": "execute_result"
    }
   ],
   "source": [
    "df.head().T"
   ]
  },
  {
   "cell_type": "code",
   "execution_count": 3,
   "id": "2db15cbf",
   "metadata": {
    "execution": {
     "iopub.execute_input": "2025-04-23T00:20:57.014340Z",
     "iopub.status.busy": "2025-04-23T00:20:57.014003Z",
     "iopub.status.idle": "2025-04-23T00:20:57.086839Z",
     "shell.execute_reply": "2025-04-23T00:20:57.085578Z"
    },
    "papermill": {
     "duration": 0.079454,
     "end_time": "2025-04-23T00:20:57.088778",
     "exception": false,
     "start_time": "2025-04-23T00:20:57.009324",
     "status": "completed"
    },
    "tags": []
   },
   "outputs": [],
   "source": [
    "df.columns = df.columns.str.lower()\n",
    "df['dep_otp15'] = np.where(df['dep_delay'] <= 15, 1, 0)"
   ]
  },
  {
   "cell_type": "code",
   "execution_count": 4,
   "id": "f86bcef1",
   "metadata": {
    "execution": {
     "iopub.execute_input": "2025-04-23T00:20:57.099411Z",
     "iopub.status.busy": "2025-04-23T00:20:57.098927Z",
     "iopub.status.idle": "2025-04-23T00:20:57.108112Z",
     "shell.execute_reply": "2025-04-23T00:20:57.107144Z"
    },
    "papermill": {
     "duration": 0.017118,
     "end_time": "2025-04-23T00:20:57.109743",
     "exception": false,
     "start_time": "2025-04-23T00:20:57.092625",
     "status": "completed"
    },
    "tags": []
   },
   "outputs": [],
   "source": [
    "num = [x for x in df.columns if df.dtypes[x] in ('int32', 'int64', 'float32', 'float64')]\n",
    "cat = [x for x in df.columns if df.dtypes[x] == 'object']\n",
    "target = 'dep_otp15'\n",
    "num.remove(target)"
   ]
  },
  {
   "cell_type": "code",
   "execution_count": 5,
   "id": "4960bab7",
   "metadata": {
    "execution": {
     "iopub.execute_input": "2025-04-23T00:20:57.118429Z",
     "iopub.status.busy": "2025-04-23T00:20:57.118059Z",
     "iopub.status.idle": "2025-04-23T00:21:11.903982Z",
     "shell.execute_reply": "2025-04-23T00:21:11.902941Z"
    },
    "papermill": {
     "duration": 14.792298,
     "end_time": "2025-04-23T00:21:11.905783",
     "exception": false,
     "start_time": "2025-04-23T00:20:57.113485",
     "status": "completed"
    },
    "tags": []
   },
   "outputs": [],
   "source": [
    "from sklearn.model_selection import train_test_split\n",
    "train, test = train_test_split(df, test_size=.2)"
   ]
  },
  {
   "cell_type": "code",
   "execution_count": 6,
   "id": "d012681b",
   "metadata": {
    "execution": {
     "iopub.execute_input": "2025-04-23T00:21:11.914372Z",
     "iopub.status.busy": "2025-04-23T00:21:11.914027Z",
     "iopub.status.idle": "2025-04-23T00:21:11.919576Z",
     "shell.execute_reply": "2025-04-23T00:21:11.918755Z"
    },
    "papermill": {
     "duration": 0.011555,
     "end_time": "2025-04-23T00:21:11.921072",
     "exception": false,
     "start_time": "2025-04-23T00:21:11.909517",
     "status": "completed"
    },
    "tags": []
   },
   "outputs": [
    {
     "data": {
      "text/plain": [
       "6743404"
      ]
     },
     "execution_count": 6,
     "metadata": {},
     "output_type": "execute_result"
    }
   ],
   "source": [
    "len(df)"
   ]
  },
  {
   "cell_type": "code",
   "execution_count": 7,
   "id": "4af3d8a5",
   "metadata": {
    "execution": {
     "iopub.execute_input": "2025-04-23T00:21:11.930248Z",
     "iopub.status.busy": "2025-04-23T00:21:11.929901Z",
     "iopub.status.idle": "2025-04-23T00:21:11.935209Z",
     "shell.execute_reply": "2025-04-23T00:21:11.934382Z"
    },
    "papermill": {
     "duration": 0.011567,
     "end_time": "2025-04-23T00:21:11.936588",
     "exception": false,
     "start_time": "2025-04-23T00:21:11.925021",
     "status": "completed"
    },
    "tags": []
   },
   "outputs": [
    {
     "data": {
      "text/plain": [
       "5394723"
      ]
     },
     "execution_count": 7,
     "metadata": {},
     "output_type": "execute_result"
    }
   ],
   "source": [
    "len(train)"
   ]
  },
  {
   "cell_type": "code",
   "execution_count": 8,
   "id": "49a161c9",
   "metadata": {
    "execution": {
     "iopub.execute_input": "2025-04-23T00:21:11.945909Z",
     "iopub.status.busy": "2025-04-23T00:21:11.945032Z",
     "iopub.status.idle": "2025-04-23T00:21:11.950654Z",
     "shell.execute_reply": "2025-04-23T00:21:11.949802Z"
    },
    "papermill": {
     "duration": 0.011468,
     "end_time": "2025-04-23T00:21:11.951952",
     "exception": false,
     "start_time": "2025-04-23T00:21:11.940484",
     "status": "completed"
    },
    "tags": []
   },
   "outputs": [
    {
     "data": {
      "text/plain": [
       "1348681"
      ]
     },
     "execution_count": 8,
     "metadata": {},
     "output_type": "execute_result"
    }
   ],
   "source": [
    "len(test)"
   ]
  },
  {
   "cell_type": "markdown",
   "id": "b193f4be",
   "metadata": {
    "papermill": {
     "duration": 0.003447,
     "end_time": "2025-04-23T00:21:11.959424",
     "exception": false,
     "start_time": "2025-04-23T00:21:11.955977",
     "status": "completed"
    },
    "tags": []
   },
   "source": [
    "# Data Science"
   ]
  },
  {
   "cell_type": "code",
   "execution_count": 9,
   "id": "e97f3d00",
   "metadata": {
    "execution": {
     "iopub.execute_input": "2025-04-23T00:21:11.968383Z",
     "iopub.status.busy": "2025-04-23T00:21:11.967744Z",
     "iopub.status.idle": "2025-04-23T00:21:12.706128Z",
     "shell.execute_reply": "2025-04-23T00:21:12.705243Z"
    },
    "papermill": {
     "duration": 0.744904,
     "end_time": "2025-04-23T00:21:12.708034",
     "exception": false,
     "start_time": "2025-04-23T00:21:11.963130",
     "status": "completed"
    },
    "tags": []
   },
   "outputs": [
    {
     "data": {
      "text/html": [
       "<div>\n",
       "<style scoped>\n",
       "    .dataframe tbody tr th:only-of-type {\n",
       "        vertical-align: middle;\n",
       "    }\n",
       "\n",
       "    .dataframe tbody tr th {\n",
       "        vertical-align: top;\n",
       "    }\n",
       "\n",
       "    .dataframe thead th {\n",
       "        text-align: right;\n",
       "    }\n",
       "</style>\n",
       "<table border=\"1\" class=\"dataframe\">\n",
       "  <thead>\n",
       "    <tr style=\"text-align: right;\">\n",
       "      <th></th>\n",
       "      <th>count</th>\n",
       "      <th>mean</th>\n",
       "      <th>sum</th>\n",
       "    </tr>\n",
       "    <tr>\n",
       "      <th>airline</th>\n",
       "      <th></th>\n",
       "      <th></th>\n",
       "      <th></th>\n",
       "    </tr>\n",
       "  </thead>\n",
       "  <tbody>\n",
       "    <tr>\n",
       "      <th>Alaska Airlines Inc.</th>\n",
       "      <td>242643</td>\n",
       "      <td>0.830364</td>\n",
       "      <td>201482</td>\n",
       "    </tr>\n",
       "    <tr>\n",
       "      <th>Allegiant Air</th>\n",
       "      <td>114425</td>\n",
       "      <td>0.770461</td>\n",
       "      <td>88160</td>\n",
       "    </tr>\n",
       "    <tr>\n",
       "      <th>American Airlines Inc.</th>\n",
       "      <td>928058</td>\n",
       "      <td>0.785835</td>\n",
       "      <td>729300</td>\n",
       "    </tr>\n",
       "    <tr>\n",
       "      <th>American Eagle Airlines Inc.</th>\n",
       "      <td>224695</td>\n",
       "      <td>0.849832</td>\n",
       "      <td>190953</td>\n",
       "    </tr>\n",
       "    <tr>\n",
       "      <th>Delta Air Lines Inc</th>\n",
       "      <td>972931</td>\n",
       "      <td>0.834972</td>\n",
       "      <td>812370</td>\n",
       "    </tr>\n",
       "    <tr>\n",
       "      <th>Endeavor Air</th>\n",
       "      <td>196905</td>\n",
       "      <td>0.870547</td>\n",
       "      <td>171415</td>\n",
       "    </tr>\n",
       "    <tr>\n",
       "      <th>Frontier Airlines Inc.</th>\n",
       "      <td>173459</td>\n",
       "      <td>0.695404</td>\n",
       "      <td>120624</td>\n",
       "    </tr>\n",
       "    <tr>\n",
       "      <th>Hawaiian Airlines Inc.</th>\n",
       "      <td>79842</td>\n",
       "      <td>0.806781</td>\n",
       "      <td>64415</td>\n",
       "    </tr>\n",
       "    <tr>\n",
       "      <th>JetBlue Airways</th>\n",
       "      <td>267915</td>\n",
       "      <td>0.693881</td>\n",
       "      <td>185901</td>\n",
       "    </tr>\n",
       "    <tr>\n",
       "      <th>PSA Airlines</th>\n",
       "      <td>191072</td>\n",
       "      <td>0.858268</td>\n",
       "      <td>163991</td>\n",
       "    </tr>\n",
       "    <tr>\n",
       "      <th>Republic Airways</th>\n",
       "      <td>286490</td>\n",
       "      <td>0.895633</td>\n",
       "      <td>256590</td>\n",
       "    </tr>\n",
       "    <tr>\n",
       "      <th>Skywest Airlines Inc.</th>\n",
       "      <td>664861</td>\n",
       "      <td>0.861087</td>\n",
       "      <td>572503</td>\n",
       "    </tr>\n",
       "    <tr>\n",
       "      <th>Southwest Airlines Co.</th>\n",
       "      <td>1421238</td>\n",
       "      <td>0.764415</td>\n",
       "      <td>1086415</td>\n",
       "    </tr>\n",
       "    <tr>\n",
       "      <th>Spirit Air Lines</th>\n",
       "      <td>258838</td>\n",
       "      <td>0.713411</td>\n",
       "      <td>184658</td>\n",
       "    </tr>\n",
       "    <tr>\n",
       "      <th>United Air Lines Inc.</th>\n",
       "      <td>720032</td>\n",
       "      <td>0.806853</td>\n",
       "      <td>580960</td>\n",
       "    </tr>\n",
       "  </tbody>\n",
       "</table>\n",
       "</div>"
      ],
      "text/plain": [
       "                                count      mean      sum\n",
       "airline                                                 \n",
       "Alaska Airlines Inc.           242643  0.830364   201482\n",
       "Allegiant Air                  114425  0.770461    88160\n",
       "American Airlines Inc.         928058  0.785835   729300\n",
       "American Eagle Airlines Inc.   224695  0.849832   190953\n",
       "Delta Air Lines Inc            972931  0.834972   812370\n",
       "Endeavor Air                   196905  0.870547   171415\n",
       "Frontier Airlines Inc.         173459  0.695404   120624\n",
       "Hawaiian Airlines Inc.          79842  0.806781    64415\n",
       "JetBlue Airways                267915  0.693881   185901\n",
       "PSA Airlines                   191072  0.858268   163991\n",
       "Republic Airways               286490  0.895633   256590\n",
       "Skywest Airlines Inc.          664861  0.861087   572503\n",
       "Southwest Airlines Co.        1421238  0.764415  1086415\n",
       "Spirit Air Lines               258838  0.713411   184658\n",
       "United Air Lines Inc.          720032  0.806853   580960"
      ]
     },
     "execution_count": 9,
     "metadata": {},
     "output_type": "execute_result"
    }
   ],
   "source": [
    "df.groupby('airline')[target].agg(['count', 'mean', 'sum'])"
   ]
  },
  {
   "cell_type": "code",
   "execution_count": 10,
   "id": "76d403ba",
   "metadata": {
    "execution": {
     "iopub.execute_input": "2025-04-23T00:21:12.719052Z",
     "iopub.status.busy": "2025-04-23T00:21:12.718005Z",
     "iopub.status.idle": "2025-04-23T00:21:13.395777Z",
     "shell.execute_reply": "2025-04-23T00:21:13.394871Z"
    },
    "papermill": {
     "duration": 0.684877,
     "end_time": "2025-04-23T00:21:13.397439",
     "exception": false,
     "start_time": "2025-04-23T00:21:12.712562",
     "status": "completed"
    },
    "tags": []
   },
   "outputs": [
    {
     "data": {
      "text/plain": [
       "airline\n",
       "Republic Airways                0.895633\n",
       "Endeavor Air                    0.870547\n",
       "Skywest Airlines Inc.           0.861087\n",
       "PSA Airlines                    0.858268\n",
       "American Eagle Airlines Inc.    0.849832\n",
       "Delta Air Lines Inc             0.834972\n",
       "Alaska Airlines Inc.            0.830364\n",
       "United Air Lines Inc.           0.806853\n",
       "Hawaiian Airlines Inc.          0.806781\n",
       "American Airlines Inc.          0.785835\n",
       "Allegiant Air                   0.770461\n",
       "Southwest Airlines Co.          0.764415\n",
       "Spirit Air Lines                0.713411\n",
       "Frontier Airlines Inc.          0.695404\n",
       "JetBlue Airways                 0.693881\n",
       "Name: dep_otp15, dtype: float64"
      ]
     },
     "execution_count": 10,
     "metadata": {},
     "output_type": "execute_result"
    }
   ],
   "source": [
    "df.groupby('airline')[target].mean().sort_values(ascending=False)"
   ]
  },
  {
   "cell_type": "code",
   "execution_count": 11,
   "id": "5a11e4bf",
   "metadata": {
    "execution": {
     "iopub.execute_input": "2025-04-23T00:21:13.407199Z",
     "iopub.status.busy": "2025-04-23T00:21:13.406852Z",
     "iopub.status.idle": "2025-04-23T00:21:15.713757Z",
     "shell.execute_reply": "2025-04-23T00:21:15.712922Z"
    },
    "papermill": {
     "duration": 2.313324,
     "end_time": "2025-04-23T00:21:15.715211",
     "exception": false,
     "start_time": "2025-04-23T00:21:13.401887",
     "status": "completed"
    },
    "tags": []
   },
   "outputs": [
    {
     "data": {
      "text/plain": [
       "aicraft_age          -0.007045\n",
       "day_of_week          -0.027177\n",
       "delay_security       -0.035377\n",
       "flight_duration      -0.041338\n",
       "delay_weather        -0.101854\n",
       "delay_nas            -0.184385\n",
       "delay_carrier        -0.272477\n",
       "delay_lastaircraft   -0.370870\n",
       "arr_delay            -0.522125\n",
       "dep_delay            -0.534136\n",
       "dep_delay_tag        -0.635566\n",
       "dtype: float64"
      ]
     },
     "execution_count": 11,
     "metadata": {},
     "output_type": "execute_result"
    }
   ],
   "source": [
    "df[num].corrwith(df[target]).sort_values(ascending=False)"
   ]
  },
  {
   "cell_type": "markdown",
   "id": "bf7dfcdb",
   "metadata": {
    "papermill": {
     "duration": 0.004379,
     "end_time": "2025-04-23T00:21:15.724911",
     "exception": false,
     "start_time": "2025-04-23T00:21:15.720532",
     "status": "completed"
    },
    "tags": []
   },
   "source": [
    "# Machine"
   ]
  },
  {
   "cell_type": "code",
   "execution_count": 12,
   "id": "67ef03c0",
   "metadata": {
    "execution": {
     "iopub.execute_input": "2025-04-23T00:21:15.736022Z",
     "iopub.status.busy": "2025-04-23T00:21:15.735251Z",
     "iopub.status.idle": "2025-04-23T00:21:24.209303Z",
     "shell.execute_reply": "2025-04-23T00:21:24.208269Z"
    },
    "papermill": {
     "duration": 8.480843,
     "end_time": "2025-04-23T00:21:24.211060",
     "exception": false,
     "start_time": "2025-04-23T00:21:15.730217",
     "status": "completed"
    },
    "tags": []
   },
   "outputs": [],
   "source": [
    "from sklearn.pipeline import Pipeline\n",
    "from sklearn.compose import ColumnTransformer\n",
    "from sklearn.preprocessing import OneHotEncoder, StandardScaler\n",
    "from sklearn.impute import SimpleImputer\n",
    "\n",
    "from sklearn.linear_model import LogisticRegression\n",
    "\n",
    "num_pip = Pipeline([\n",
    "    ('impute', SimpleImputer())\n",
    "    , ('scaler', StandardScaler())\n",
    "])\n",
    "\n",
    "cat_pip = Pipeline([\n",
    "    ('encoder', OneHotEncoder(sparse_output=False, handle_unknown='ignore'))\n",
    "])\n",
    "\n",
    "pipe = ColumnTransformer([\n",
    "    ('num', num_pip, ['arr_delay', 'delay_lastaircraft', 'delay_carrier', 'delay_nas', 'delay_weather'])\n",
    "    , ('cat', cat_pip, ['airline'])\n",
    "])\n",
    "\n",
    "pipe.fit(train)\n",
    "train_pre = pipe.transform(train)\n",
    "test_pre = pipe.transform(test)"
   ]
  },
  {
   "cell_type": "code",
   "execution_count": 13,
   "id": "38bdc4b8",
   "metadata": {
    "execution": {
     "iopub.execute_input": "2025-04-23T00:21:24.221354Z",
     "iopub.status.busy": "2025-04-23T00:21:24.220658Z",
     "iopub.status.idle": "2025-04-23T00:22:47.788246Z",
     "shell.execute_reply": "2025-04-23T00:22:47.787272Z"
    },
    "papermill": {
     "duration": 83.577398,
     "end_time": "2025-04-23T00:22:47.792991",
     "exception": false,
     "start_time": "2025-04-23T00:21:24.215593",
     "status": "completed"
    },
    "tags": []
   },
   "outputs": [
    {
     "name": "stdout",
     "output_type": "stream",
     "text": [
      "0.9463687014240053\n"
     ]
    }
   ],
   "source": [
    "from sklearn.model_selection import cross_val_score\n",
    "from sklearn.metrics import classification_report, accuracy_score\n",
    "\n",
    "from sklearn.linear_model import LogisticRegression\n",
    "\n",
    "log = LogisticRegression()\n",
    "log.fit(train_pre, train[target])\n",
    "preds = log.predict(train_pre)\n",
    "print(cross_val_score(log, train_pre, train[target], scoring='accuracy').mean())"
   ]
  },
  {
   "cell_type": "code",
   "execution_count": 14,
   "id": "42d93b70",
   "metadata": {
    "execution": {
     "iopub.execute_input": "2025-04-23T00:22:47.802757Z",
     "iopub.status.busy": "2025-04-23T00:22:47.802409Z",
     "iopub.status.idle": "2025-04-23T00:22:50.150570Z",
     "shell.execute_reply": "2025-04-23T00:22:50.149527Z"
    },
    "papermill": {
     "duration": 2.35474,
     "end_time": "2025-04-23T00:22:50.152007",
     "exception": false,
     "start_time": "2025-04-23T00:22:47.797267",
     "status": "completed"
    },
    "tags": []
   },
   "outputs": [
    {
     "name": "stdout",
     "output_type": "stream",
     "text": [
      "              precision    recall  f1-score   support\n",
      "\n",
      "           0       0.94      0.78      0.85    265826\n",
      "           1       0.95      0.99      0.97   1082855\n",
      "\n",
      "    accuracy                           0.95   1348681\n",
      "   macro avg       0.94      0.88      0.91   1348681\n",
      "weighted avg       0.95      0.95      0.94   1348681\n",
      "\n"
     ]
    }
   ],
   "source": [
    "print(classification_report(test[target], log.predict(test_pre)))"
   ]
  },
  {
   "cell_type": "code",
   "execution_count": null,
   "id": "c387e668",
   "metadata": {
    "papermill": {
     "duration": 0.004375,
     "end_time": "2025-04-23T00:22:50.161379",
     "exception": false,
     "start_time": "2025-04-23T00:22:50.157004",
     "status": "completed"
    },
    "tags": []
   },
   "outputs": [],
   "source": []
  }
 ],
 "metadata": {
  "kaggle": {
   "accelerator": "none",
   "dataSources": [
    {
     "datasetId": 4746545,
     "sourceId": 8279623,
     "sourceType": "datasetVersion"
    }
   ],
   "dockerImageVersionId": 31012,
   "isGpuEnabled": false,
   "isInternetEnabled": true,
   "language": "python",
   "sourceType": "notebook"
  },
  "kernelspec": {
   "display_name": "Python 3",
   "language": "python",
   "name": "python3"
  },
  "language_info": {
   "codemirror_mode": {
    "name": "ipython",
    "version": 3
   },
   "file_extension": ".py",
   "mimetype": "text/x-python",
   "name": "python",
   "nbconvert_exporter": "python",
   "pygments_lexer": "ipython3",
   "version": "3.11.11"
  },
  "papermill": {
   "default_parameters": {},
   "duration": 167.332662,
   "end_time": "2025-04-23T00:22:51.487867",
   "environment_variables": {},
   "exception": null,
   "input_path": "__notebook__.ipynb",
   "output_path": "__notebook__.ipynb",
   "parameters": {},
   "start_time": "2025-04-23T00:20:04.155205",
   "version": "2.6.0"
  }
 },
 "nbformat": 4,
 "nbformat_minor": 5
}
